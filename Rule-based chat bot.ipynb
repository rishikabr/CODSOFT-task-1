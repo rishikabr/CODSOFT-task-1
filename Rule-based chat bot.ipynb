{
 "cells": [
  {
   "cell_type": "code",
   "execution_count": 1,
   "metadata": {},
   "outputs": [
    {
     "name": "stdout",
     "output_type": "stream",
     "text": [
      "You: hello\n",
      "Chatbot: Hello! How can I assist you today?\n",
      "You: what's your name?\n",
      "Chatbot: I'm a simple chatbot.\n",
      "You: you are smart\n",
      "Chatbot: Thank you , pleasure to help you \n",
      "You: exit\n",
      "Chatbot: Goodbye!\n"
     ]
    }
   ],
   "source": [
    "def chatbot(user_input):\n",
    "    user_input = user_input.lower()\n",
    "\n",
    "    greetings = [\"hello\", \"hi\", \"hey\", \"namaste\", \"hola\"]\n",
    "    name_queries = [\"what's your name?\", \"who are you?\", \"tell me your name\"]\n",
    "    compliments=[\"good job \",\"well done\",\"you are smart\"]\n",
    "    age_queries = [\"how old are you?\", \"what's your age?\"]\n",
    "    weather_queries = [\"what's the weather like?\", \"tell me the weather forecast\"]\n",
    "    thank_you = [\"thank you\", \"thanks\", \"appreciate it\"]\n",
    "    \n",
    "    \n",
    "    if any(i in user_input for i in greetings):\n",
    "        return \"Hello! How can I assist you today?\"\n",
    "    elif any(i in user_input for i in name_queries):\n",
    "        return \"I'm a simple chatbot.\"\n",
    "    elif any(i in user_input for i in compliments):\n",
    "        return \"Thank you , pleasure to help you \"\n",
    "    elif any(i in user_input for i in age_queries):\n",
    "        return \"I don't have an age. I'm just a computer program or you can say a Bot\"\n",
    "    elif any(i in user_input for i in weather_queries):\n",
    "        return \"I'm sorry, I don't have access to real-time weather information.\"\n",
    "    elif any(i in user_input for i in thank_you):\n",
    "        return \"You're welcome!\"\n",
    "\n",
    "    # if no pattern matches\n",
    "    return \"I'm sorry, I didn't understand that. Please ask another question.\"\n",
    "\n",
    "\n",
    "while True:\n",
    "    user_input = input(\"You: \")\n",
    "    if user_input.lower() == \"exit\":\n",
    "        print(\"Chatbot: Goodbye!\")\n",
    "        break\n",
    "    response = chatbot(user_input)\n",
    "    print(\"Chatbot:\", response)\n"
   ]
  },
  {
   "cell_type": "code",
   "execution_count": null,
   "metadata": {},
   "outputs": [],
   "source": []
  }
 ],
 "metadata": {
  "kernelspec": {
   "display_name": "Python 3",
   "language": "python",
   "name": "python3"
  },
  "language_info": {
   "codemirror_mode": {
    "name": "ipython",
    "version": 3
   },
   "file_extension": ".py",
   "mimetype": "text/x-python",
   "name": "python",
   "nbconvert_exporter": "python",
   "pygments_lexer": "ipython3",
   "version": "3.8.5"
  }
 },
 "nbformat": 4,
 "nbformat_minor": 4
}
